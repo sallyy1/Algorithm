{
 "cells": [
  {
   "cell_type": "code",
   "execution_count": 16,
   "metadata": {},
   "outputs": [
    {
     "name": "stdout",
     "output_type": "stream",
     "text": [
      "74\n",
      "69\n",
      "74\n",
      "85\n"
     ]
    }
   ],
   "source": [
    "## 문제 1. 암호해독 << En-coding 문제 >>\n",
    "\n",
    "\n",
    "str1 = '   + -- + - + -   '.replace('+', '1').replace('-', '0').replace(' ', '')\n",
    "str2 ='   + --- + - +   '.replace('+', '1').replace('-', '0').replace(' ', '')\n",
    "str3 = '   + -- + - + -   '.replace('+', '1').replace('-', '0').replace(' ', '')\n",
    "str4 = '   + - + - + - +   '.replace('+', '1').replace('-', '0').replace(' ', '')\n",
    "\n",
    "\n",
    "# 2진수 -> 10진수 변환\n",
    "print(int(str1, 2))\n",
    "print(int(str2, 2))\n",
    "print(int(str3, 2))\n",
    "print(int(str4, 2))"
   ]
  },
  {
   "cell_type": "code",
   "execution_count": 18,
   "metadata": {},
   "outputs": [
    {
     "name": "stdout",
     "output_type": "stream",
     "text": [
      "1001010\n",
      "1000101\n",
      "1001010\n",
      "1010101\n"
     ]
    }
   ],
   "source": [
    "print(str1)\n",
    "print(str2)\n",
    "print(str3)\n",
    "print(str4)"
   ]
  },
  {
   "cell_type": "code",
   "execution_count": 21,
   "metadata": {},
   "outputs": [
    {
     "name": "stdout",
     "output_type": "stream",
     "text": [
      "JEJU\n"
     ]
    }
   ],
   "source": [
    "print(chr(74)+\n",
    "chr(69)+\n",
    "chr(74)+\n",
    "chr(85))"
   ]
  },
  {
   "cell_type": "code",
   "execution_count": null,
   "metadata": {},
   "outputs": [],
   "source": [
    "## 문제 2. JAVA독과 함께!\n",
    "\n",
    "\n",
    "첫 문제를 푼 라이캣은 자신의 한계가 어디인지 궁금했어요. 그렇지만 높은 곳은 혼자 갈 수 없죠. 그래서 동료를 모으기로 결심했습니다.\n",
    "\n",
    "![https://s3-us-west-2.amazonaws.com/secure.notion-static.com/8e1910a3-5029-4116-9f46-a43960cf6b98/Untitled.png](https://s3-us-west-2.amazonaws.com/secure.notion-static.com/8e1910a3-5029-4116-9f46-a43960cf6b98/Untitled.png)\n",
    "\n",
    "하지만 선뜻 멀고 험한길을 듣보잡 라이캣과 함께 해줄 친구들은 없었답니다.\n",
    "\n",
    "라이캣은 랩처럼 대사를 외우고 다녔어요.\n",
    "\n",
    "> 내 동료가 되어라냥!\n",
    "\n",
    "- 뭐지? 명령문인가?\n",
    "- '냥'이라니, 자연어처리가 힘들겠는걸?\n",
    "- 동료는 sum인가, concat인가? axis 0인가, 1인가?\n",
    "\n",
    "동물 친구들은 수근거렸습니다. 혼자 코딩하기 좋아하는 동물 친구들은 동료라는 말도 이해하지 못했어요.\n",
    "\n",
    "---\n",
    "\n",
    "그러던 중 동물 친구들 중에서 가장 재빠르고, 영리한 JAVA독이 말했습니다. ~~사실 자바독은 늘 Python을 해보고 싶었거든요.~~ 그래서 라이캣이 파이와 썬의 보물을 찾으러 가는 도구로 `파이썬`을 사용한다고 하였을 때 눈여겨 보고 있었어요.\n",
    "\n",
    "> 내가 동료되길 원해? 그렇다면 검증필!?\n",
    "\n",
    "라이캣은 거절할 이유가 없었죠.\n",
    "\n",
    "> 좋아냥!\n",
    "\n",
    "![https://s3-us-west-2.amazonaws.com/secure.notion-static.com/8bfc8bfc-5e59-4423-ad9f-3fb5e126e773/Untitled.png](https://s3-us-west-2.amazonaws.com/secure.notion-static.com/8bfc8bfc-5e59-4423-ad9f-3fb5e126e773/Untitled.png)\n",
    "\n",
    "---\n",
    "\n",
    "![https://s3-us-west-2.amazonaws.com/secure.notion-static.com/a8ccb0fd-a673-4fda-b537-70349cde99ea/.png](https://s3-us-west-2.amazonaws.com/secure.notion-static.com/a8ccb0fd-a673-4fda-b537-70349cde99ea/.png)\n",
    "\n",
    "저기 징검다리가 보이지? 내 친구들이 징검다리를 건널거야! 하지만 징검다리는 버틸수 있는 내구도가 한계가 있지! 내 친구들의 **몸무게**, **돌의 내구도**, **친구들의 점프력**을 고려하여 내 친구 루비독, 피치피독, 씨-독, 코볼독이 각각 다리를 건널 수 있는지 알아봐줘! 친구들은 더 추가 될 수도, 덜 건널 수도 있어!\n",
    "\n",
    "1. 각 돌들이 얼마나 버틸수 있는지 배열로 주어집니다. (내구도 0까지는 독의 몸무게를 버틸 수 있습니다. 0미만이 되면 독은 살아남지 못합니다.)\n",
    "\n",
    "2. 각 독들의 개인정보가 JSON(JSON은 큰 따옴표로 묶여야 합니다. **가능하다면 json을 import하여 풀어보세요!**)으로 주어집니다. 개인정보는 보호되지 않습니다.\n",
    "\n",
    "3. 각 돌에 독들이 착지할 때 돌의 내구도는 몸무게만큼 줄어듭니다.\n",
    "    ex) [1,2,1,4] 각 돌마다 몸무게 1인 독 1마리 2마리 1마리 4마리의 착지를 버틸 수 있습니다.\n",
    "\n",
    "4. 독들의 점프력이 각자 다릅니다. \n",
    "    ex) 점프력이 2라면 2칸씩 점프하여 착지합니다.\n",
    "\n",
    "4. 각 독들은 순서대로만 다리를 건넙니다.\n",
    "\n",
    "```python\n",
    "**입력**\n",
    "돌의내구도 = [1, 2, 1, 4]\n",
    "독 = [{\n",
    "    \"이름\" : \"루비독\",\n",
    "    \"나이\" : \"95년생\",\n",
    "    \"점프력\" : \"3\",\n",
    "    \"몸무게\" : \"4\",\n",
    "    },{\n",
    "    \"이름\" : \"피치독\",\n",
    "    \"나이\" : \"95년생\",\n",
    "    \"점프력\" : \"3\",\n",
    "    \"몸무게\" : \"3\",\n",
    "    },{\n",
    "    \"이름\" : \"씨-독\",\n",
    "    \"나이\" : \"72년생\",\n",
    "    \"점프력\" : \"2\",\n",
    "    \"몸무게\" : \"1\",\n",
    "    },{\n",
    "    \"이름\" : \"코볼독\",\n",
    "    \"나이\" : \"59년생\",\n",
    "    \"점프력\" : \"1\",\n",
    "    \"몸무게\" : \"1\",\n",
    "    },\n",
    "]\n",
    "\n",
    "**출력**\n",
    "생존자 : ['씨-독']\n",
    "\n",
    "**입력**\n",
    "돌의내구도 = [5, 3, 4, 1, 3, 8, 3]\n",
    "독 = [{\n",
    "    \"이름\" : \"루비독\",\n",
    "    \"나이\" : \"95년생\",\n",
    "    \"점프력\" : \"3\",\n",
    "    \"몸무게\" : \"4\",\n",
    "    },{\n",
    "    \"이름\" : \"피치독\",\n",
    "    \"나이\" : \"95년생\",\n",
    "    \"점프력\" : \"3\",\n",
    "    \"몸무게\" : \"3\",\n",
    "    },{\n",
    "    \"이름\" : \"씨-독\",\n",
    "    \"나이\" : \"72년생\",\n",
    "    \"점프력\" : \"2\",\n",
    "    \"몸무게\" : \"1\",\n",
    "    },{\n",
    "    \"이름\" : \"코볼독\",\n",
    "    \"나이\" : \"59년생\",\n",
    "    \"점프력\" : \"1\",\n",
    "    \"몸무게\" : \"1\",\n",
    "    },\n",
    "]\n",
    "\n",
    "**출력**\n",
    "생존자 : ['루비독', '씨-독']\n",
    "```"
   ]
  },
  {
   "cell_type": "code",
   "execution_count": 25,
   "metadata": {},
   "outputs": [],
   "source": [
    "# 예제 1\n",
    "\n",
    "돌의내구도 = [1, 2, 1, 4]\n",
    "독 = [{\n",
    "    \"이름\" : \"루비독\",\n",
    "    \"나이\" : \"95년생\",\n",
    "    \"점프력\" : \"3\",\n",
    "    \"몸무게\" : \"4\",\n",
    "    },{\n",
    "    \"이름\" : \"피치독\",\n",
    "    \"나이\" : \"95년생\",\n",
    "    \"점프력\" : \"3\",\n",
    "    \"몸무게\" : \"3\",\n",
    "    },{\n",
    "    \"이름\" : \"씨-독\",\n",
    "    \"나이\" : \"72년생\",\n",
    "    \"점프력\" : \"2\",\n",
    "    \"몸무게\" : \"1\",\n",
    "    },{\n",
    "    \"이름\" : \"코볼독\",\n",
    "    \"나이\" : \"59년생\",\n",
    "    \"점프력\" : \"1\",\n",
    "    \"몸무게\" : \"1\",\n",
    "    },\n",
    "]"
   ]
  },
  {
   "cell_type": "code",
   "execution_count": 23,
   "metadata": {},
   "outputs": [
    {
     "name": "stdout",
     "output_type": "stream",
     "text": [
      "['루비독', '피치독', '씨-독', '코볼독']\n"
     ]
    }
   ],
   "source": [
    "def 징검다리를건너라(돌의내구도, 독):\n",
    "    answer = [독[i]['이름']for i in range(len(독))]\n",
    "    \n",
    "    return answer\n",
    "\n",
    "print(징검다리를건너라(돌의내구도, 독))"
   ]
  },
  {
   "cell_type": "code",
   "execution_count": 24,
   "metadata": {},
   "outputs": [
    {
     "name": "stdout",
     "output_type": "stream",
     "text": [
      "['루비독', '피치독', '씨-독', '코볼독']\n"
     ]
    }
   ],
   "source": [
    "def 징검다리를건너라(돌의내구도, 독):\n",
    "    answer = [elem['이름'] for elem in 독]\n",
    "    \n",
    "    return answer\n",
    "\n",
    "print(징검다리를건너라(돌의내구도, 독))"
   ]
  },
  {
   "cell_type": "code",
   "execution_count": 30,
   "metadata": {},
   "outputs": [
    {
     "name": "stdout",
     "output_type": "stream",
     "text": [
      "['씨-독']\n"
     ]
    }
   ],
   "source": [
    "def 징검다리를건너라(돌의내구도, 독):\n",
    "    answer = [elem['이름'] for elem in 독]\n",
    "    \n",
    "    for elem in 독:\n",
    "        독의위치 = 0\n",
    "        while 독의위치 < len(돌의내구도)-1:\n",
    "            독의위치 += int(elem['점프력'])\n",
    "            돌의내구도[독의위치-1] -= int(elem['몸무게'])\n",
    "            \n",
    "            if 돌의내구도[독의위치-1] < 0:\n",
    "                answer[answer.index(elem['이름'])] = 'fail'\n",
    "                break\n",
    "    return [i for i in answer if i != 'fail']\n",
    "    \n",
    "\n",
    "print(징검다리를건너라(돌의내구도.copy(), 독.copy())) # copy() 안해주면 내부에서 값이 바뀜"
   ]
  },
  {
   "cell_type": "code",
   "execution_count": 34,
   "metadata": {},
   "outputs": [
    {
     "data": {
      "text/plain": [
       "[1000, 2, 3, 4, 5]"
      ]
     },
     "execution_count": 34,
     "metadata": {},
     "output_type": "execute_result"
    }
   ],
   "source": [
    "ll = [1, 2, 3, 4, 5]\n",
    "\n",
    "def change(l):\n",
    "    l[0] = 1000\n",
    "    \n",
    "change(ll)\n",
    "\n",
    "ll # 리스트는 주소를 전달해주기 때문에, 안에서 값이 수정됨"
   ]
  },
  {
   "cell_type": "code",
   "execution_count": 37,
   "metadata": {},
   "outputs": [
    {
     "data": {
      "text/plain": [
       "100"
      ]
     },
     "execution_count": 37,
     "metadata": {},
     "output_type": "execute_result"
    }
   ],
   "source": [
    "xx = 100\n",
    "\n",
    "def change(x):\n",
    "    x += 1000\n",
    "    \n",
    "change(xx)\n",
    "\n",
    "xx # 원래 전역 변수는 값이 바뀌지 않으나(함수는 주소값은 그대로 있고 값만 복사됨)"
   ]
  },
  {
   "cell_type": "code",
   "execution_count": 38,
   "metadata": {},
   "outputs": [
    {
     "name": "stdout",
     "output_type": "stream",
     "text": [
      "['씨-독']\n"
     ]
    }
   ],
   "source": [
    "# remove : 0(N)\n",
    "# del : O(1) => 따라서 del을 사용하자 !\n",
    "\n",
    "\n",
    "\n",
    "def 징검다리를건너라(돌의내구도, 독):\n",
    "    answer = [elem['이름'] for elem in 독]\n",
    "    \n",
    "    for elem in 독:\n",
    "        독의위치 = 0\n",
    "        while 독의위치 < len(돌의내구도)-1:\n",
    "            독의위치 += int(elem['점프력'])\n",
    "            돌의내구도[독의위치-1] -= int(elem['몸무게'])\n",
    "            \n",
    "            if 돌의내구도[독의위치-1] < 0:\n",
    "                del answer[answer.index(elem['이름'])]\n",
    "                break\n",
    "    return answer\n",
    "    \n",
    "\n",
    "print(징검다리를건너라(돌의내구도.copy(), 독.copy())) # copy() 안해주면 내부에서 값이 바뀜"
   ]
  },
  {
   "cell_type": "code",
   "execution_count": 39,
   "metadata": {},
   "outputs": [
    {
     "data": {
      "text/plain": [
       "'[{\"이름\": \"루'"
      ]
     },
     "execution_count": 39,
     "metadata": {},
     "output_type": "execute_result"
    }
   ],
   "source": [
    "# json 처리 방식\n",
    "\n",
    "import json\n",
    "\n",
    "JSON독 = json.dumps(독, ensure_ascii=False)\n",
    "JSON독[0]\n",
    "JSON독[:10] # str 타입 !"
   ]
  },
  {
   "cell_type": "code",
   "execution_count": 40,
   "metadata": {},
   "outputs": [
    {
     "data": {
      "text/plain": [
       "{'이름': '루비독', '나이': '95년생', '점프력': '3', '몸무게': '4'}"
      ]
     },
     "execution_count": 40,
     "metadata": {},
     "output_type": "execute_result"
    }
   ],
   "source": [
    "JSON독 = json.loads(JSON독)\n",
    "JSON독[0] # list 타입으로 잘 로드됨 !"
   ]
  },
  {
   "cell_type": "code",
   "execution_count": null,
   "metadata": {},
   "outputs": [],
   "source": [
    "## 문제 3. 섬으로 건너가라!\n",
    "\n",
    "입력\n",
    "대기인원 = 14000605\n",
    "\n",
    "출력\n",
    "2025년 ㅠㅠ2월 413일 11시 0분 출발\n",
    "\n",
    "입력\n",
    "대기인원 = 1200202\n",
    "\n",
    "출력\n",
    "2020년 1월 1000일 11시 0분 출발"
   ]
  },
  {
   "cell_type": "code",
   "execution_count": 56,
   "metadata": {},
   "outputs": [
    {
     "data": {
      "text/plain": [
       "'2025년 2월 413일 11시 0분 출발'"
      ]
     },
     "execution_count": 56,
     "metadata": {},
     "output_type": "execute_result"
    }
   ],
   "source": [
    "# 정답\n",
    "import datetime\n",
    "\n",
    "오늘시간 = datetime.datetime.today()\n",
    "대기인원 = 14000605\n",
    "\n",
    "\n",
    "def solution(대기인원):\n",
    "    일년일수 = 0\n",
    "    for i in range(10, 0, -1):\n",
    "        일년일수 += 2**i\n",
    "        \n",
    "    \n",
    "    년 = (대기인원 // 1200) // 일년일수\n",
    "    남은일수 = (대기인원 // 1200) % 일년일수 # 대기일 : (대기인원 // 1200)\n",
    "    \n",
    "    월별일수누적값 = 0\n",
    "    월 = 0\n",
    "    for i in range(10, 0, -1):\n",
    "        차감일 = 월별일수누적값\n",
    "        월별일수누적값 += 2**i\n",
    "        월 += 1\n",
    "        \n",
    "        if 월별일수누적값 > 남은일수:\n",
    "            break\n",
    "            \n",
    "            \n",
    "    일 = 남은일수 - 차감일\n",
    "    최종남은인원 = 대기인원 % 1200\n",
    "    시 = 최종남은인원 // 100+9\n",
    "    \n",
    "    \n",
    "    출발분 = [25, 50, 75, 85, 100]\n",
    "    해당시간에남은인원 = 최종남은인원 % 100\n",
    "    \n",
    "    for i in 출발분:\n",
    "        if i > 해당시간에남은인원:\n",
    "            분 = 출발분.index(i) * 10\n",
    "            break\n",
    "            \n",
    "            \n",
    "    if 최종남은인원 % 100 == 9:\n",
    "        시 += 1\n",
    "        분 = 0\n",
    "    \n",
    "    if(오늘시간.minute + 분 > 60):\n",
    "        분 = (오늘시간.minute + 분) - 60\n",
    "        시 += 1\n",
    "    \n",
    "    \n",
    "    #print(년, 월, 일, 시, 분)\n",
    "    return f'{년+2020}년 {월}월 {일}일 {시}시 {분}분 출발'\n",
    "    \n",
    "solution(대기인원)"
   ]
  },
  {
   "cell_type": "code",
   "execution_count": 58,
   "metadata": {},
   "outputs": [],
   "source": [
    "# 문제4. 자리를 양보해가며!\n",
    "\n",
    "graph = {100: set([67, 66]),\n",
    "         67: set([100, 82, 63]),\n",
    "         66: set([100, 73, 69]),\n",
    "         82: set([67, 61, 79]),\n",
    "         63: set([67]),\n",
    "         73: set([66]),\n",
    "         69: set([66, 65, 81]),\n",
    "         61: set([82]),\n",
    "         79: set([82, 87, 77]),\n",
    "         65: set([69, 84, 99]),\n",
    "         81: set([69]),\n",
    "         87: set([79, 31, 78]),\n",
    "         77: set([79]),\n",
    "         84: set([65]),\n",
    "         99: set([65]),\n",
    "         31: set([87]),\n",
    "         78: set([87])}"
   ]
  },
  {
   "cell_type": "code",
   "execution_count": null,
   "metadata": {},
   "outputs": [],
   "source": [
    "graph = {100: new Set([67, 66]),\n",
    "         67: new Set([100, 82, 63]),\n",
    "         66: new Set([100, 73, 69]),\n",
    "         82: new Set([67, 61, 79]),\n",
    "         63: new Set([67]),\n",
    "         73: new Set([66]),\n",
    "         69: new Set([66, 65, 81]),\n",
    "         61: new Set([82]),\n",
    "         79: new Set([82, 87, 77]),\n",
    "         65: new Set([69, 84, 99]),\n",
    "         81: new Set([69]),\n",
    "         87: new Set([79, 31, 78]),\n",
    "         77: new Set([79]),\n",
    "         84: new Set([65]),\n",
    "         99: new Set([65]),\n",
    "         31: new Set([87]),\n",
    "         78: new Set([87])};"
   ]
  },
  {
   "cell_type": "code",
   "execution_count": 61,
   "metadata": {},
   "outputs": [
    {
     "name": "stdout",
     "output_type": "stream",
     "text": [
      "visited : [100]\n",
      "stack : [66, 67]\n",
      "visited : [100, 67]\n",
      "stack : [66, 82, 63]\n",
      "visited : [100, 67, 63]\n",
      "stack : [66, 82]\n",
      "visited : [100, 67, 63, 82]\n",
      "stack : [66, 61, 79]\n",
      "visited : [100, 67, 63, 82, 79]\n",
      "stack : [66, 61, 77, 87]\n",
      "visited : [100, 67, 63, 82, 79, 87]\n",
      "stack : [66, 61, 77, 78, 31]\n",
      "visited : [100, 67, 63, 82, 79, 87, 31]\n",
      "stack : [66, 61, 77, 78]\n",
      "visited : [100, 67, 63, 82, 79, 87, 31, 78]\n",
      "stack : [66, 61, 77]\n",
      "visited : [100, 67, 63, 82, 79, 87, 31, 78, 77]\n",
      "stack : [66, 61]\n",
      "visited : [100, 67, 63, 82, 79, 87, 31, 78, 77, 61]\n",
      "stack : [66]\n",
      "visited : [100, 67, 63, 82, 79, 87, 31, 78, 77, 61, 66]\n",
      "stack : [73, 69]\n",
      "visited : [100, 67, 63, 82, 79, 87, 31, 78, 77, 61, 66, 69]\n",
      "stack : [73, 65, 81]\n",
      "visited : [100, 67, 63, 82, 79, 87, 31, 78, 77, 61, 66, 69, 81]\n",
      "stack : [73, 65]\n",
      "visited : [100, 67, 63, 82, 79, 87, 31, 78, 77, 61, 66, 69, 81, 65]\n",
      "stack : [73, 99, 84]\n",
      "visited : [100, 67, 63, 82, 79, 87, 31, 78, 77, 61, 66, 69, 81, 65, 84]\n",
      "stack : [73, 99]\n",
      "visited : [100, 67, 63, 82, 79, 87, 31, 78, 77, 61, 66, 69, 81, 65, 84, 99]\n",
      "stack : [73]\n",
      "visited : [100, 67, 63, 82, 79, 87, 31, 78, 77, 61, 66, 69, 81, 65, 84, 99, 73]\n",
      "stack : []\n"
     ]
    },
    {
     "data": {
      "text/plain": [
       "[100, 67, 63, 82, 79, 87, 31, 78, 77, 61, 66, 69, 81, 65, 84, 99, 73]"
      ]
     },
     "execution_count": 61,
     "metadata": {},
     "output_type": "execute_result"
    }
   ],
   "source": [
    "def 깊이우선탐색(graph, start): # 스택 !\n",
    "    방문 = []\n",
    "    stack = [start] # 시작노드 처음 담기\n",
    "    \n",
    "    while stack: # 스택에 값이 없을 때까지 진행\n",
    "        n = stack.pop()\n",
    "        if n not in 방문:\n",
    "            방문.append(n)\n",
    "            차집합 = graph[n] - set(방문)\n",
    "            stack += 차집합 # 스택에 누적\n",
    "            \n",
    "            print(f'visited : {방문}')\n",
    "            print(f'stack : {stack}')\n",
    "            \n",
    "    return 방문\n",
    "\n",
    "깊이우선탐색(graph, 100)\n",
    "    "
   ]
  },
  {
   "cell_type": "code",
   "execution_count": 73,
   "metadata": {},
   "outputs": [
    {
     "name": "stdout",
     "output_type": "stream",
     "text": [
      "visited : [100]\n",
      "stack : [66]\n",
      "visited : [100, 66]\n",
      "stack : [69]\n",
      "visited : [100, 66, 69]\n",
      "stack : [65]\n",
      "visited : [100, 66, 69, 65]\n",
      "stack : [84]\n"
     ]
    },
    {
     "data": {
      "text/plain": [
       "[100, 66, 69, 65, 84]"
      ]
     },
     "execution_count": 73,
     "metadata": {},
     "output_type": "execute_result"
    }
   ],
   "source": [
    "def 깊이우선탐색(graph, start): # 스택 !\n",
    "    방문 = []\n",
    "    stack = [start] # 시작노드 처음 담기\n",
    "    \n",
    "    while stack: # 스택에 값이 없을 때까지 진행\n",
    "        n = stack.pop()\n",
    "        if n not in 방문:\n",
    "            방문.append(n)\n",
    "            차집합 = graph[n] - set(방문)\n",
    "            \n",
    "            if len(차집합) == 0: # 깊이 끝으로 다 이동하였다면,\n",
    "                방문 += stack\n",
    "                break\n",
    "                \n",
    "            stack.append(min(차집합)) # 작은값(or 큰값)만 출력    \n",
    "            \n",
    "            print(f'visited : {방문}')\n",
    "            print(f'stack : {stack}')\n",
    "            \n",
    "    return 방문\n",
    "\n",
    "깊이우선탐색(graph, 100)\n",
    "    "
   ]
  },
  {
   "cell_type": "code",
   "execution_count": null,
   "metadata": {},
   "outputs": [],
   "source": [
    "# 큰값: [100, 67, 82, 79, 87, 78]\n",
    "# 작은값: [100, 66, 69, 65, 84]"
   ]
  },
  {
   "cell_type": "code",
   "execution_count": 75,
   "metadata": {},
   "outputs": [
    {
     "data": {
      "text/plain": [
       "'CROWN'"
      ]
     },
     "execution_count": 75,
     "metadata": {},
     "output_type": "execute_result"
    }
   ],
   "source": [
    "# 아스키코드로 변환 !\n",
    "''.join(chr(i) for i in [67, 82, 79, 87, 78]) # max"
   ]
  },
  {
   "cell_type": "code",
   "execution_count": 74,
   "metadata": {},
   "outputs": [
    {
     "data": {
      "text/plain": [
       "'BEAT'"
      ]
     },
     "execution_count": 74,
     "metadata": {},
     "output_type": "execute_result"
    }
   ],
   "source": [
    "''.join(chr(i) for i in [66, 69, 65, 84])"
   ]
  },
  {
   "cell_type": "markdown",
   "metadata": {},
   "source": [
    "# 기본 알고리즘 강좌"
   ]
  },
  {
   "cell_type": "code",
   "execution_count": 81,
   "metadata": {},
   "outputs": [
    {
     "name": "stdout",
     "output_type": "stream",
     "text": [
      "5050\n",
      "CPU times: user 383 µs, sys: 135 µs, total: 518 µs\n",
      "Wall time: 1.2 ms\n"
     ]
    }
   ],
   "source": [
    "%%time ### O(n)\n",
    "## 1부터 100까지의 합\n",
    "\n",
    "\n",
    "x = 0\n",
    "n = 100\n",
    "\n",
    "for i in range(1, n+1):\n",
    "    x += i\n",
    "    \n",
    "print(x)"
   ]
  },
  {
   "cell_type": "code",
   "execution_count": 80,
   "metadata": {},
   "outputs": [
    {
     "name": "stdout",
     "output_type": "stream",
     "text": [
      "5050\n",
      "CPU times: user 98 µs, sys: 9 µs, total: 107 µs\n",
      "Wall time: 112 µs\n"
     ]
    }
   ],
   "source": [
    "%%time ### O(1)\n",
    "# 시그마 공식 : n*(n+1)//2\n",
    "\n",
    "\n",
    "x = 0\n",
    "n = 100\n",
    "\n",
    "x = n*(n+1)//2\n",
    "    \n",
    "print(x)"
   ]
  },
  {
   "cell_type": "code",
   "execution_count": 78,
   "metadata": {},
   "outputs": [
    {
     "name": "stdout",
     "output_type": "stream",
     "text": [
      "120\n"
     ]
    }
   ],
   "source": [
    "## 1부터 100까지의 곱\n",
    "\n",
    "# 팩토리얼 (!)\n",
    "\n",
    "\n",
    "x = 1\n",
    "n = 5\n",
    "\n",
    "for i in range(1, n+1):\n",
    "    x *= i\n",
    "    \n",
    "print(x)"
   ]
  },
  {
   "cell_type": "code",
   "execution_count": 82,
   "metadata": {},
   "outputs": [
    {
     "name": "stdout",
     "output_type": "stream",
     "text": [
      "5050\n"
     ]
    }
   ],
   "source": [
    "## 1부터 100까지의 합 (재귀)\n",
    "\n",
    "def f(n):\n",
    "    if n <= 1:\n",
    "        return 1\n",
    "    else:\n",
    "        return n + f(n-1)\n",
    "    \n",
    "\n",
    "n = 100    \n",
    "print(f(n))"
   ]
  },
  {
   "cell_type": "code",
   "execution_count": 84,
   "metadata": {},
   "outputs": [
    {
     "name": "stdout",
     "output_type": "stream",
     "text": [
      "120\n"
     ]
    }
   ],
   "source": [
    "## 1부터 100까지의 곱 (재귀)\n",
    "\n",
    "def f(n):\n",
    "    if n <= 1:\n",
    "        return 1\n",
    "    else:\n",
    "        return n * f(n-1)\n",
    "    \n",
    "\n",
    "n = 5   \n",
    "print(f(n))"
   ]
  },
  {
   "cell_type": "code",
   "execution_count": 85,
   "metadata": {},
   "outputs": [
    {
     "name": "stdout",
     "output_type": "stream",
     "text": [
      "##exit\n"
     ]
    }
   ],
   "source": [
    "###\n",
    "while True:\n",
    "    if input('##') == 'exit':\n",
    "        break\n",
    "    if input('##') == 'hi':\n",
    "        print('hello world')\n",
    "    else:\n",
    "        continue"
   ]
  },
  {
   "cell_type": "code",
   "execution_count": 87,
   "metadata": {},
   "outputs": [
    {
     "name": "stdout",
     "output_type": "stream",
     "text": [
      "##wefw\n",
      "##wefwef\n",
      "##wefwefsd\n",
      "##exit\n",
      "##exit\n"
     ]
    }
   ],
   "source": [
    "# 무한루프 -재귀함수\n",
    "\n",
    "def console():\n",
    "    if input('##') == 'exit':\n",
    "        return None\n",
    "    if input('##') == 'hi':\n",
    "        print('hello world')\n",
    "    console()\n",
    "console()"
   ]
  },
  {
   "cell_type": "code",
   "execution_count": 88,
   "metadata": {},
   "outputs": [
    {
     "name": "stdout",
     "output_type": "stream",
     "text": [
      "0b1011\n",
      "0o13\n",
      "0xb\n"
     ]
    }
   ],
   "source": [
    "# 2진수, 8진수 16진수 구하기\n",
    "print(bin(11))\n",
    "print(oct(11))\n",
    "print(hex(11))"
   ]
  },
  {
   "cell_type": "code",
   "execution_count": 89,
   "metadata": {},
   "outputs": [
    {
     "name": "stdout",
     "output_type": "stream",
     "text": [
      "1011\n",
      "13\n",
      "b\n"
     ]
    }
   ],
   "source": [
    "print(bin(11)[2:])\n",
    "print(oct(11)[2:])\n",
    "print(hex(11)[2:])"
   ]
  },
  {
   "cell_type": "code",
   "execution_count": null,
   "metadata": {},
   "outputs": [],
   "source": [
    "## 2진수 구하기 - 반복문"
   ]
  },
  {
   "cell_type": "code",
   "execution_count": null,
   "metadata": {},
   "outputs": [],
   "source": []
  },
  {
   "cell_type": "code",
   "execution_count": null,
   "metadata": {},
   "outputs": [],
   "source": []
  },
  {
   "cell_type": "code",
   "execution_count": null,
   "metadata": {},
   "outputs": [],
   "source": []
  },
  {
   "cell_type": "code",
   "execution_count": 1,
   "metadata": {},
   "outputs": [],
   "source": [
    "## 문제 6. 밭의 비밀\n",
    "\n",
    "import numpy as np\n",
    "\n",
    "첫번째밭 = [\n",
    "    [1, 0, 0, 0, 0],\n",
    "    [0, 0, 1, 0, 1],\n",
    "    [0, 0, 1, 0, 1],\n",
    "    [0, 0, 1, 0, 1],\n",
    "    [0, 0, 1, 0, 1]\n",
    "]\n",
    "\n",
    "두번째밭 = [\n",
    "    [0, 0, 0, 0, 1],\n",
    "    [0, 0, 0, 0, 3],\n",
    "    [0, 0, 0, 0, 4],\n",
    "    [0, 2, 0, 0, 2],\n",
    "    [4, 5, 0, 2, 0]\n",
    "]"
   ]
  },
  {
   "cell_type": "code",
   "execution_count": 2,
   "metadata": {},
   "outputs": [
    {
     "data": {
      "text/plain": [
       "array([[0, 1, 1, 1, 1],\n",
       "       [0, 0, 0, 0, 0],\n",
       "       [0, 1, 1, 1, 1],\n",
       "       [0, 0, 0, 0, 0],\n",
       "       [1, 0, 0, 0, 0]])"
      ]
     },
     "execution_count": 2,
     "metadata": {},
     "output_type": "execute_result"
    }
   ],
   "source": [
    "np.rot90(첫번째밭, 1) # 반시계 회전"
   ]
  },
  {
   "cell_type": "code",
   "execution_count": 3,
   "metadata": {},
   "outputs": [
    {
     "data": {
      "text/plain": [
       "array([[0, 0, 0, 0, 1],\n",
       "       [0, 0, 0, 0, 0],\n",
       "       [1, 1, 1, 1, 0],\n",
       "       [0, 0, 0, 0, 0],\n",
       "       [1, 1, 1, 1, 0]])"
      ]
     },
     "execution_count": 3,
     "metadata": {},
     "output_type": "execute_result"
    }
   ],
   "source": [
    "np.rot90(첫번째밭, -1) # 시계 회전"
   ]
  },
  {
   "cell_type": "code",
   "execution_count": 4,
   "metadata": {},
   "outputs": [
    {
     "data": {
      "text/plain": [
       "array([[2, 3, 4, 2, 0],\n",
       "       [0, 0, 1, 0, 3],\n",
       "       [0, 0, 1, 0, 1],\n",
       "       [0, 0, 1, 2, 6],\n",
       "       [0, 0, 1, 0, 5]])"
      ]
     },
     "execution_count": 4,
     "metadata": {},
     "output_type": "execute_result"
    }
   ],
   "source": [
    "# 1\n",
    "np.rot90(두번째밭, 1) + np.array(첫번째밭)"
   ]
  },
  {
   "cell_type": "code",
   "execution_count": 6,
   "metadata": {},
   "outputs": [
    {
     "data": {
      "text/plain": [
       "array([[ 0, -3, -4, -2,  0],\n",
       "       [ 0,  0,  1,  0, -1],\n",
       "       [ 0,  0,  1,  0,  1],\n",
       "       [ 0,  0,  1, -2, -4],\n",
       "       [ 0,  0,  1,  0, -3]])"
      ]
     },
     "execution_count": 6,
     "metadata": {},
     "output_type": "execute_result"
    }
   ],
   "source": [
    "# 2\n",
    "np.array(첫번째밭) - np.rot90(두번째밭, 1)"
   ]
  },
  {
   "cell_type": "code",
   "execution_count": 7,
   "metadata": {},
   "outputs": [
    {
     "data": {
      "text/plain": [
       "array([[1, 0, 0, 0, 0],\n",
       "       [0, 0, 0, 0, 2],\n",
       "       [0, 0, 0, 0, 0],\n",
       "       [0, 0, 0, 0, 5],\n",
       "       [0, 0, 0, 0, 4]])"
      ]
     },
     "execution_count": 7,
     "metadata": {},
     "output_type": "execute_result"
    }
   ],
   "source": [
    "# 3\n",
    "np.array(첫번째밭) * np.rot90(두번째밭, 1)"
   ]
  },
  {
   "cell_type": "code",
   "execution_count": 8,
   "metadata": {},
   "outputs": [
    {
     "data": {
      "text/plain": [
       "array([[1, 3, 4, 2, 0],\n",
       "       [0, 0, 0, 0, 4],\n",
       "       [0, 0, 0, 0, 4],\n",
       "       [0, 0, 0, 0, 4],\n",
       "       [0, 0, 0, 0, 4]])"
      ]
     },
     "execution_count": 8,
     "metadata": {},
     "output_type": "execute_result"
    }
   ],
   "source": [
    "# 4 <<행렬의 곱>> => @\n",
    "np.array(첫번째밭) @ np.rot90(두번째밭, 1)"
   ]
  },
  {
   "cell_type": "code",
   "execution_count": 9,
   "metadata": {},
   "outputs": [
    {
     "data": {
      "text/plain": [
       "'23420'"
      ]
     },
     "execution_count": 9,
     "metadata": {},
     "output_type": "execute_result"
    }
   ],
   "source": [
    "정답 = np.rot90(두번째밭, 1) + np.array(첫번째밭)\n",
    "''.join([str(i) for i in 정답[0]])"
   ]
  },
  {
   "cell_type": "code",
   "execution_count": 10,
   "metadata": {},
   "outputs": [
    {
     "data": {
      "text/plain": [
       "10000"
      ]
     },
     "execution_count": 10,
     "metadata": {},
     "output_type": "execute_result"
    }
   ],
   "source": [
    "# 8진수 => 10진수 변환 : int()\n",
    "\n",
    "int(''.join([str(i) for i in 정답[0]]), 8)"
   ]
  },
  {
   "cell_type": "code",
   "execution_count": 12,
   "metadata": {},
   "outputs": [
    {
     "data": {
      "text/plain": [
       "'C'"
      ]
     },
     "execution_count": 12,
     "metadata": {},
     "output_type": "execute_result"
    }
   ],
   "source": [
    "chr(int(''.join([str(i) for i in 정답[1]]), 8))"
   ]
  },
  {
   "cell_type": "code",
   "execution_count": 13,
   "metadata": {},
   "outputs": [
    {
     "name": "stdout",
     "output_type": "stream",
     "text": [
      "✐\n",
      "C\n",
      "A\n",
      "V\n",
      "E\n"
     ]
    }
   ],
   "source": [
    "# 전체 정답 : 만장굴\n",
    "for k in range(5):\n",
    "    print(chr(int(''.join([str(i) for i in 정답[k]]), 8)))"
   ]
  },
  {
   "cell_type": "code",
   "execution_count": null,
   "metadata": {},
   "outputs": [],
   "source": []
  }
 ],
 "metadata": {
  "kernelspec": {
   "display_name": "Python 3",
   "language": "python",
   "name": "python3"
  },
  "language_info": {
   "codemirror_mode": {
    "name": "ipython",
    "version": 3
   },
   "file_extension": ".py",
   "mimetype": "text/x-python",
   "name": "python",
   "nbconvert_exporter": "python",
   "pygments_lexer": "ipython3",
   "version": "3.8.3"
  }
 },
 "nbformat": 4,
 "nbformat_minor": 4
}
